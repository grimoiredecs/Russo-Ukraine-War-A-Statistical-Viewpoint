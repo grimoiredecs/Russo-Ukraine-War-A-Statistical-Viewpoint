{
 "cells": [
  {
   "cell_type": "code",
   "execution_count": 1,
   "metadata": {},
   "outputs": [],
   "source": [
    "import pandas as pd\n",
    "import numpy as np"
   ]
  },
  {
   "cell_type": "code",
   "execution_count": 4,
   "metadata": {},
   "outputs": [],
   "source": [
    "equip = pd.read_csv(\"russia_losses_equipment_correction.csv\")\n",
    "person = pd.read_csv(\"russia_losses_personnel.csv\")"
   ]
  },
  {
   "cell_type": "code",
   "execution_count": 11,
   "metadata": {},
   "outputs": [
    {
     "name": "stdout",
     "output_type": "stream",
     "text": [
      "date                       0\n",
      "day                        0\n",
      "aircraft                   0\n",
      "helicopter                 0\n",
      "tank                       0\n",
      "APC                        0\n",
      "field artillery            0\n",
      "MRL                        0\n",
      "drone                      0\n",
      "naval ship                 0\n",
      "submarines                 0\n",
      "anti-aircraft warfare      0\n",
      "special equipment          0\n",
      "vehicles and fuel tanks    0\n",
      "cruise missiles            0\n",
      "dtype: int64\n",
      "---------------------\n",
      "date            0\n",
      "day             0\n",
      "personnel       0\n",
      "personnel*      0\n",
      "POW           802\n",
      "dtype: int64\n"
     ]
    }
   ],
   "source": [
    "e_na = equip.isna().sum()\n",
    "print(e_na)\n",
    "p_na = person.isna().sum()\n",
    "print(\"---------------------\")\n",
    "print(p_na)"
   ]
  },
  {
   "cell_type": "code",
   "execution_count": 14,
   "metadata": {},
   "outputs": [
    {
     "name": "stderr",
     "output_type": "stream",
     "text": [
      "Matplotlib is building the font cache; this may take a moment.\n"
     ]
    }
   ],
   "source": [
    "import matplotlib.pyplot as plt"
   ]
  },
  {
   "cell_type": "code",
   "execution_count": 13,
   "metadata": {},
   "outputs": [
    {
     "name": "stdout",
     "output_type": "stream",
     "text": [
      "<class 'pandas.core.frame.DataFrame'>\n",
      "RangeIndex: 9 entries, 0 to 8\n",
      "Data columns (total 15 columns):\n",
      " #   Column                   Non-Null Count  Dtype \n",
      "---  ------                   --------------  ----- \n",
      " 0   date                     9 non-null      object\n",
      " 1   day                      9 non-null      int64 \n",
      " 2   aircraft                 9 non-null      int64 \n",
      " 3   helicopter               9 non-null      int64 \n",
      " 4   tank                     9 non-null      int64 \n",
      " 5   APC                      9 non-null      int64 \n",
      " 6   field artillery          9 non-null      int64 \n",
      " 7   MRL                      9 non-null      int64 \n",
      " 8   drone                    9 non-null      int64 \n",
      " 9   naval ship               9 non-null      int64 \n",
      " 10  submarines               9 non-null      int64 \n",
      " 11  anti-aircraft warfare    9 non-null      int64 \n",
      " 12  special equipment        9 non-null      int64 \n",
      " 13  vehicles and fuel tanks  9 non-null      int64 \n",
      " 14  cruise missiles          9 non-null      int64 \n",
      "dtypes: int64(14), object(1)\n",
      "memory usage: 1.2+ KB\n"
     ]
    }
   ],
   "source": [
    "equip.info()"
   ]
  },
  {
   "cell_type": "code",
   "execution_count": null,
   "metadata": {},
   "outputs": [],
   "source": [
    "plt.plot(equip, x = \"day\", y = \"aircraft\")"
   ]
  }
 ],
 "metadata": {
  "kernelspec": {
   "display_name": ".venv",
   "language": "python",
   "name": "python3"
  },
  "language_info": {
   "codemirror_mode": {
    "name": "ipython",
    "version": 3
   },
   "file_extension": ".py",
   "mimetype": "text/x-python",
   "name": "python",
   "nbconvert_exporter": "python",
   "pygments_lexer": "ipython3",
   "version": "3.12.4"
  }
 },
 "nbformat": 4,
 "nbformat_minor": 2
}
